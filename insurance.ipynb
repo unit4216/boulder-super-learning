{
 "cells": [
  {
   "cell_type": "markdown",
   "source": [
    "Problem: insurance company needs model to price policies\n",
    "\n",
    "Source: https://www.kaggle.com/datasets/simranjain17/insurance"
   ],
   "metadata": {
    "collapsed": false
   },
   "id": "7bdcdf9723893be5"
  },
  {
   "cell_type": "code",
   "execution_count": 54,
   "id": "initial_id",
   "metadata": {
    "collapsed": true,
    "ExecuteTime": {
     "end_time": "2024-05-21T15:22:18.767996Z",
     "start_time": "2024-05-21T15:22:18.728997Z"
    }
   },
   "outputs": [
    {
     "name": "stdout",
     "output_type": "stream",
     "text": [
      "0.6192182314261947\n",
      "0.745221829882879\n",
      "29267380.773722246\n",
      "0.7559800585649862\n"
     ]
    }
   ],
   "source": [
    "import pandas as pd\n",
    "import sklearn.model_selection\n",
    "import statsmodels.formula.api as smf\n",
    "import numpy as np\n",
    "\n",
    "data = pd.read_csv('insurance.csv')\n",
    "\n",
    "# convert smoker to binary\n",
    "smoker_map = {'yes': 1, 'no': 0}\n",
    "data['smoker'] = data['smoker'].apply(lambda x: smoker_map[x])\n",
    "\n",
    "# one-hot encoding for categorical variables\n",
    "data = pd.get_dummies(data, columns=['sex', 'region'])\n",
    "\n",
    "# set dependent variable as first col for correlation matrix to show good results\n",
    "cols = ['charges'] + [col for col in data if col != 'charges']\n",
    "data = data[cols]\n",
    "\n",
    "# print(data.info())\n",
    "\n",
    "# todo collinearity - no independent variables appear to have have correlation thus no collinearity (based off correlation matrix)\n",
    "corr = data.corr()\n",
    "\n",
    "X_train, X_test = sklearn.model_selection.train_test_split(data, test_size=0.2)\n",
    "\n",
    "# todo interaction terms?\n",
    "model = smf.ols(formula='charges ~ smoker', data=X_train).fit()\n",
    "# print(model.summary())\n",
    "adj_R2 = model.rsquared\n",
    "print(adj_R2)\n",
    "\n",
    "multi_model = smf.ols(formula='charges ~ smoker + age + bmi', data=X_train).fit()\n",
    "multi_r2 = multi_model.rsquared\n",
    "\n",
    "# todo p-value analysis\n",
    "# print(multi_model.summary())\n",
    "print(multi_r2)\n",
    "\n",
    "# todo need to run the model on the test data and evaluate the results\n",
    "from sklearn.metrics import mean_squared_error, r2_score\n",
    "\n",
    "y_pred = multi_model.predict(X_test)\n",
    "# todo why is mse so high???\n",
    "mse = mean_squared_error(X_test['charges'], y_pred)\n",
    "r2 = r2_score(X_test['charges'], y_pred)\n",
    "\n",
    "print(mse)\n",
    "print(r2)"
   ]
  },
  {
   "cell_type": "code",
   "execution_count": 40,
   "outputs": [],
   "source": [],
   "metadata": {
    "collapsed": false,
    "ExecuteTime": {
     "end_time": "2024-05-21T15:07:16.924684Z",
     "start_time": "2024-05-21T15:07:16.915257Z"
    }
   },
   "id": "ebcd33ec94c7a39"
  },
  {
   "cell_type": "code",
   "execution_count": null,
   "outputs": [],
   "source": [],
   "metadata": {
    "collapsed": false
   },
   "id": "efd3256ae2aaa423"
  }
 ],
 "metadata": {
  "kernelspec": {
   "display_name": "Python 3",
   "language": "python",
   "name": "python3"
  },
  "language_info": {
   "codemirror_mode": {
    "name": "ipython",
    "version": 2
   },
   "file_extension": ".py",
   "mimetype": "text/x-python",
   "name": "python",
   "nbconvert_exporter": "python",
   "pygments_lexer": "ipython2",
   "version": "2.7.6"
  }
 },
 "nbformat": 4,
 "nbformat_minor": 5
}

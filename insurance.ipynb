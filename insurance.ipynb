{
 "cells": [
  {
   "cell_type": "markdown",
   "source": [
    "Source: https://www.kaggle.com/datasets/simranjain17/insurance"
   ],
   "metadata": {
    "collapsed": false
   },
   "id": "7bdcdf9723893be5"
  },
  {
   "cell_type": "code",
   "execution_count": 21,
   "id": "initial_id",
   "metadata": {
    "collapsed": true,
    "ExecuteTime": {
     "end_time": "2024-05-21T14:40:39.266890Z",
     "start_time": "2024-05-21T14:40:39.255865Z"
    }
   },
   "outputs": [
    {
     "name": "stdout",
     "output_type": "stream",
     "text": [
      "0.7620411850770838\n"
     ]
    }
   ],
   "source": [
    "import pandas as pd\n",
    "import sklearn.model_selection\n",
    "import statsmodels.formula.api as smf\n",
    "import numpy as np\n",
    "\n",
    "salaries = pd.read_csv('insurance.csv')\n",
    "\n",
    "data = salaries\n",
    "\n",
    "smoker_map = {'yes': 1, 'no': 0}\n",
    "data['smoker'] = data['smoker'].apply(lambda x: smoker_map[x])\n",
    "\n",
    "data = pd.get_dummies(data, columns=['sex', 'region'])\n",
    "\n",
    "# set dependent variable as first col for correlation matrix to show good results\n",
    "cols = ['charges'] + [col for col in data if col != 'charges']\n",
    "data = data[cols]\n",
    "\n",
    "# print(data.info())\n",
    "\n",
    "corr = data.corr()\n",
    "\n",
    "X_train, X_test = sklearn.model_selection.train_test_split(data, test_size=0.2)\n",
    "model = smf.ols(formula='charges ~ smoker + age + bmi', data=X_train).fit()\n",
    "adj_R2 = model.rsquared\n",
    "\n",
    "print(adj_R2)"
   ]
  },
  {
   "cell_type": "code",
   "execution_count": null,
   "outputs": [],
   "source": [],
   "metadata": {
    "collapsed": false
   },
   "id": "ebcd33ec94c7a39"
  }
 ],
 "metadata": {
  "kernelspec": {
   "display_name": "Python 3",
   "language": "python",
   "name": "python3"
  },
  "language_info": {
   "codemirror_mode": {
    "name": "ipython",
    "version": 2
   },
   "file_extension": ".py",
   "mimetype": "text/x-python",
   "name": "python",
   "nbconvert_exporter": "python",
   "pygments_lexer": "ipython2",
   "version": "2.7.6"
  }
 },
 "nbformat": 4,
 "nbformat_minor": 5
}

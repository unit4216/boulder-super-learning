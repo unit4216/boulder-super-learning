{
 "cells": [
  {
   "cell_type": "markdown",
   "source": [
    "Problem: insurance company needs model to price policies\n",
    "\n",
    "Source: https://www.kaggle.com/datasets/simranjain17/insurance"
   ],
   "metadata": {
    "collapsed": false
   },
   "id": "7bdcdf9723893be5"
  },
  {
   "cell_type": "code",
   "execution_count": null,
   "id": "initial_id",
   "metadata": {
    "collapsed": true,
    "is_executing": true,
    "ExecuteTime": {
     "start_time": "2024-05-21T15:01:50.238409Z"
    }
   },
   "outputs": [],
   "source": [
    "import pandas as pd\n",
    "import sklearn.model_selection\n",
    "import statsmodels.formula.api as smf\n",
    "import numpy as np\n",
    "\n",
    "data = pd.read_csv('insurance.csv')\n",
    "\n",
    "# convert smoker to binary\n",
    "smoker_map = {'yes': 1, 'no': 0}\n",
    "data['smoker'] = data['smoker'].apply(lambda x: smoker_map[x])\n",
    "\n",
    "# one-hot encoding for categorical variables\n",
    "data = pd.get_dummies(data, columns=['sex', 'region'])\n",
    "\n",
    "# set dependent variable as first col for correlation matrix to show good results\n",
    "cols = ['charges'] + [col for col in data if col != 'charges']\n",
    "data = data[cols]\n",
    "\n",
    "# print(data.info())\n",
    "\n",
    "# todo collinearity - no independent variables appear to have have correlation thus no collinearity (based off correlation matrix)\n",
    "corr = data.corr()\n",
    "\n",
    "X_train, X_test = sklearn.model_selection.train_test_split(data, test_size=0.2)\n",
    "model = smf.ols(formula='charges ~ smoker + age + bmi', data=X_train).fit()\n",
    "adj_R2 = model.rsquared\n",
    "\n",
    "# todo p-value analysis\n",
    "print(model.summary())\n",
    "\n",
    "print(adj_R2)\n",
    "\n",
    "model = smf.ols(formula='charges ~ smoker + age + bmi + sex_male + sex_female', data=X_train).fit()\n",
    "adj_R2 = model.rsquared\n",
    "\n",
    "print(adj_R2)"
   ]
  },
  {
   "cell_type": "code",
   "execution_count": null,
   "outputs": [],
   "source": [],
   "metadata": {
    "collapsed": false
   },
   "id": "ebcd33ec94c7a39"
  }
 ],
 "metadata": {
  "kernelspec": {
   "display_name": "Python 3",
   "language": "python",
   "name": "python3"
  },
  "language_info": {
   "codemirror_mode": {
    "name": "ipython",
    "version": 2
   },
   "file_extension": ".py",
   "mimetype": "text/x-python",
   "name": "python",
   "nbconvert_exporter": "python",
   "pygments_lexer": "ipython2",
   "version": "2.7.6"
  }
 },
 "nbformat": 4,
 "nbformat_minor": 5
}

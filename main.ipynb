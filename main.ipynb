{
 "cells": [
  {
   "cell_type": "markdown",
   "source": [
    "Supervised Learning Final: Data Engineer Salaries Model\n",
    "\n",
    "The problem we want to solve is for companies to know how they should set salaries for new positions.\n",
    "By putting the factors into the model, they can get a prediction of how they should be setting salaries to be\n",
    "similar to market value.\n",
    "\n",
    "Dataset URL (Kaggle): https://www.kaggle.com/datasets/chopper53/data-engineer-salary-in-2024?resource=download"
   ],
   "metadata": {
    "collapsed": false
   },
   "id": "c2b3bae495caa5b6"
  },
  {
   "cell_type": "code",
   "execution_count": null,
   "outputs": [],
   "source": [
    "import pandas as pd\n",
    "import sklearn.model_selection\n",
    "import statsmodels.formula.api as smf\n",
    "\n",
    "salaries = pd.read_csv('salaries.csv')\n",
    "\n",
    "# filter for relevant data\n",
    "data = salaries[\n",
    "    (salaries['job_title'] == 'Data Scientist') &\n",
    "     (salaries['employment_type'] == 'FT') & (salaries['employee_residence'] == 'US')\n",
    "]\n",
    "\n",
    "# todo convert some features to numeric values e.g. experience level (convert to scale of 1-4), etc\n",
    "exp_levels = data['experience_level'].unique()\n",
    "# remove 'EX' level since we don't know what this is\n",
    "data = data[data['experience_level'] != 'EX']\n",
    "# convert other exp levels to ordinal numbers\n",
    "exp_mapping = {'EN': 1, 'MI': 2, 'SE': 3}\n",
    "data['experience_level'] = data['experience_level'].apply(lambda x: exp_mapping[x])\n",
    "# convert company size to ordinal numbers\n",
    "company_size_mapping = {'S': 1, 'M': 2, 'L': 3}\n",
    "data['company_size'] = data['company_size'].apply(lambda x: company_size_mapping[x])\n",
    "\n",
    "\n",
    "# drop irrelevant features\n",
    "data = data.drop(columns=[\n",
    "    'employment_type', \n",
    "    'job_title',\n",
    "    'salary',\n",
    "    'salary_currency', \n",
    "    'employee_residence', \n",
    "    'company_location',\n",
    "])\n",
    "\n",
    "# set dependent variable as first col for correlation matrix to show good results\n",
    "data = data[['salary_in_usd', 'work_year', 'remote_ratio', 'experience_level', 'company_size']]\n",
    "\n",
    "corr = data.corr()\n",
    "\n",
    "X_train, X_test = sklearn.model_selection.train_test_split(data, test_size=0.2)\n",
    "model = smf.ols(formula='salary_in_usd ~ experience_level', data=X_train).fit()\n",
    "adj_R2 = model.rsquared\n",
    "\n",
    "print(adj_R2)"
   ],
   "metadata": {
    "collapsed": false,
    "ExecuteTime": {
     "end_time": "2024-05-20T23:12:58.232975Z",
     "start_time": "2024-05-20T23:12:58.232523Z"
    }
   },
   "id": "6f06ad54b0fc51b"
  },
  {
   "cell_type": "code",
   "execution_count": null,
   "outputs": [],
   "source": [],
   "metadata": {
    "collapsed": false
   },
   "id": "474649911a373656"
  }
 ],
 "metadata": {
  "kernelspec": {
   "display_name": "Python 3",
   "language": "python",
   "name": "python3"
  },
  "language_info": {
   "codemirror_mode": {
    "name": "ipython",
    "version": 2
   },
   "file_extension": ".py",
   "mimetype": "text/x-python",
   "name": "python",
   "nbconvert_exporter": "python",
   "pygments_lexer": "ipython2",
   "version": "2.7.6"
  }
 },
 "nbformat": 4,
 "nbformat_minor": 5
}

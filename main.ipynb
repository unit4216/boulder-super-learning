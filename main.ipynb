{
 "cells": [
  {
   "cell_type": "markdown",
   "source": [
    "Supervised Learning Final: Data Engineer Salaries Model\n",
    "\n",
    "Dataset URL (Kaggle): https://www.kaggle.com/datasets/chopper53/data-engineer-salary-in-2024?resource=download"
   ],
   "metadata": {
    "collapsed": false
   },
   "id": "c2b3bae495caa5b6"
  },
  {
   "cell_type": "code",
   "execution_count": 39,
   "outputs": [
    {
     "ename": "KeyboardInterrupt",
     "evalue": "",
     "output_type": "error",
     "traceback": [
      "\u001B[0;31m---------------------------------------------------------------------------\u001B[0m",
      "\u001B[0;31mKeyboardInterrupt\u001B[0m                         Traceback (most recent call last)",
      "Cell \u001B[0;32mIn[39], line 40\u001B[0m\n\u001B[1;32m     36\u001B[0m data \u001B[38;5;241m=\u001B[39m data[[\u001B[38;5;124m'\u001B[39m\u001B[38;5;124msalary_in_usd\u001B[39m\u001B[38;5;124m'\u001B[39m, \u001B[38;5;124m'\u001B[39m\u001B[38;5;124mwork_year\u001B[39m\u001B[38;5;124m'\u001B[39m, \u001B[38;5;124m'\u001B[39m\u001B[38;5;124mremote_ratio\u001B[39m\u001B[38;5;124m'\u001B[39m, \u001B[38;5;124m'\u001B[39m\u001B[38;5;124mexperience_level\u001B[39m\u001B[38;5;124m'\u001B[39m, \u001B[38;5;124m'\u001B[39m\u001B[38;5;124mcompany_size\u001B[39m\u001B[38;5;124m'\u001B[39m]]\n\u001B[1;32m     38\u001B[0m corr \u001B[38;5;241m=\u001B[39m data\u001B[38;5;241m.\u001B[39mcorr()\n\u001B[0;32m---> 40\u001B[0m X_train, X_test \u001B[38;5;241m=\u001B[39m \u001B[43msklearn\u001B[49m\u001B[38;5;241m.\u001B[39mmodel_selection\u001B[38;5;241m.\u001B[39mtrain_test_split(data, test_size\u001B[38;5;241m=\u001B[39m\u001B[38;5;241m0.2\u001B[39m)\n\u001B[1;32m     41\u001B[0m model \u001B[38;5;241m=\u001B[39m smf\u001B[38;5;241m.\u001B[39mols(formula\u001B[38;5;241m=\u001B[39m\u001B[38;5;124m'\u001B[39m\u001B[38;5;124msalary_in_usd ~ experience_level\u001B[39m\u001B[38;5;124m'\u001B[39m, data\u001B[38;5;241m=\u001B[39mX_train)\u001B[38;5;241m.\u001B[39mfit()\n\u001B[1;32m     42\u001B[0m adj_R2 \u001B[38;5;241m=\u001B[39m model\u001B[38;5;241m.\u001B[39mrsquared\n",
      "Cell \u001B[0;32mIn[39], line 40\u001B[0m\n\u001B[1;32m     36\u001B[0m data \u001B[38;5;241m=\u001B[39m data[[\u001B[38;5;124m'\u001B[39m\u001B[38;5;124msalary_in_usd\u001B[39m\u001B[38;5;124m'\u001B[39m, \u001B[38;5;124m'\u001B[39m\u001B[38;5;124mwork_year\u001B[39m\u001B[38;5;124m'\u001B[39m, \u001B[38;5;124m'\u001B[39m\u001B[38;5;124mremote_ratio\u001B[39m\u001B[38;5;124m'\u001B[39m, \u001B[38;5;124m'\u001B[39m\u001B[38;5;124mexperience_level\u001B[39m\u001B[38;5;124m'\u001B[39m, \u001B[38;5;124m'\u001B[39m\u001B[38;5;124mcompany_size\u001B[39m\u001B[38;5;124m'\u001B[39m]]\n\u001B[1;32m     38\u001B[0m corr \u001B[38;5;241m=\u001B[39m data\u001B[38;5;241m.\u001B[39mcorr()\n\u001B[0;32m---> 40\u001B[0m X_train, X_test \u001B[38;5;241m=\u001B[39m \u001B[43msklearn\u001B[49m\u001B[38;5;241m.\u001B[39mmodel_selection\u001B[38;5;241m.\u001B[39mtrain_test_split(data, test_size\u001B[38;5;241m=\u001B[39m\u001B[38;5;241m0.2\u001B[39m)\n\u001B[1;32m     41\u001B[0m model \u001B[38;5;241m=\u001B[39m smf\u001B[38;5;241m.\u001B[39mols(formula\u001B[38;5;241m=\u001B[39m\u001B[38;5;124m'\u001B[39m\u001B[38;5;124msalary_in_usd ~ experience_level\u001B[39m\u001B[38;5;124m'\u001B[39m, data\u001B[38;5;241m=\u001B[39mX_train)\u001B[38;5;241m.\u001B[39mfit()\n\u001B[1;32m     42\u001B[0m adj_R2 \u001B[38;5;241m=\u001B[39m model\u001B[38;5;241m.\u001B[39mrsquared\n",
      "File \u001B[0;32m_pydevd_bundle/pydevd_cython_darwin_310_64.pyx:1187\u001B[0m, in \u001B[0;36m_pydevd_bundle.pydevd_cython_darwin_310_64.SafeCallWrapper.__call__\u001B[0;34m()\u001B[0m\n",
      "File \u001B[0;32m_pydevd_bundle/pydevd_cython_darwin_310_64.pyx:627\u001B[0m, in \u001B[0;36m_pydevd_bundle.pydevd_cython_darwin_310_64.PyDBFrame.trace_dispatch\u001B[0;34m()\u001B[0m\n",
      "File \u001B[0;32m_pydevd_bundle/pydevd_cython_darwin_310_64.pyx:937\u001B[0m, in \u001B[0;36m_pydevd_bundle.pydevd_cython_darwin_310_64.PyDBFrame.trace_dispatch\u001B[0;34m()\u001B[0m\n",
      "File \u001B[0;32m_pydevd_bundle/pydevd_cython_darwin_310_64.pyx:928\u001B[0m, in \u001B[0;36m_pydevd_bundle.pydevd_cython_darwin_310_64.PyDBFrame.trace_dispatch\u001B[0;34m()\u001B[0m\n",
      "File \u001B[0;32m_pydevd_bundle/pydevd_cython_darwin_310_64.pyx:585\u001B[0m, in \u001B[0;36m_pydevd_bundle.pydevd_cython_darwin_310_64.PyDBFrame.do_wait_suspend\u001B[0;34m()\u001B[0m\n",
      "File \u001B[0;32m~/Library/Application Support/JetBrains/IntelliJIdea2023.3/plugins/python/helpers/pydev/pydevd.py:1184\u001B[0m, in \u001B[0;36mPyDB.do_wait_suspend\u001B[0;34m(self, thread, frame, event, arg, send_suspend_message, is_unhandled_exception)\u001B[0m\n\u001B[1;32m   1181\u001B[0m         from_this_thread\u001B[38;5;241m.\u001B[39mappend(frame_id)\n\u001B[1;32m   1183\u001B[0m \u001B[38;5;28;01mwith\u001B[39;00m \u001B[38;5;28mself\u001B[39m\u001B[38;5;241m.\u001B[39m_threads_suspended_single_notification\u001B[38;5;241m.\u001B[39mnotify_thread_suspended(thread_id, stop_reason):\n\u001B[0;32m-> 1184\u001B[0m     \u001B[38;5;28;43mself\u001B[39;49m\u001B[38;5;241;43m.\u001B[39;49m\u001B[43m_do_wait_suspend\u001B[49m\u001B[43m(\u001B[49m\u001B[43mthread\u001B[49m\u001B[43m,\u001B[49m\u001B[43m \u001B[49m\u001B[43mframe\u001B[49m\u001B[43m,\u001B[49m\u001B[43m \u001B[49m\u001B[43mevent\u001B[49m\u001B[43m,\u001B[49m\u001B[43m \u001B[49m\u001B[43marg\u001B[49m\u001B[43m,\u001B[49m\u001B[43m \u001B[49m\u001B[43msuspend_type\u001B[49m\u001B[43m,\u001B[49m\u001B[43m \u001B[49m\u001B[43mfrom_this_thread\u001B[49m\u001B[43m)\u001B[49m\n",
      "File \u001B[0;32m~/Library/Application Support/JetBrains/IntelliJIdea2023.3/plugins/python/helpers/pydev/pydevd.py:1199\u001B[0m, in \u001B[0;36mPyDB._do_wait_suspend\u001B[0;34m(self, thread, frame, event, arg, suspend_type, from_this_thread)\u001B[0m\n\u001B[1;32m   1196\u001B[0m             \u001B[38;5;28mself\u001B[39m\u001B[38;5;241m.\u001B[39m_call_mpl_hook()\n\u001B[1;32m   1198\u001B[0m         \u001B[38;5;28mself\u001B[39m\u001B[38;5;241m.\u001B[39mprocess_internal_commands()\n\u001B[0;32m-> 1199\u001B[0m         \u001B[43mtime\u001B[49m\u001B[38;5;241;43m.\u001B[39;49m\u001B[43msleep\u001B[49m\u001B[43m(\u001B[49m\u001B[38;5;241;43m0.01\u001B[39;49m\u001B[43m)\u001B[49m\n\u001B[1;32m   1201\u001B[0m \u001B[38;5;28mself\u001B[39m\u001B[38;5;241m.\u001B[39mcancel_async_evaluation(get_current_thread_id(thread), \u001B[38;5;28mstr\u001B[39m(\u001B[38;5;28mid\u001B[39m(frame)))\n\u001B[1;32m   1203\u001B[0m \u001B[38;5;66;03m# process any stepping instructions\u001B[39;00m\n",
      "\u001B[0;31mKeyboardInterrupt\u001B[0m: "
     ]
    }
   ],
   "source": [
    "import pandas as pd\n",
    "import sklearn.model_selection\n",
    "import statsmodels.formula.api as smf\n",
    "\n",
    "salaries = pd.read_csv('salaries.csv')\n",
    "\n",
    "# filter for relevant data\n",
    "data = salaries[\n",
    "    (salaries['job_title'] == 'Data Scientist') &\n",
    "     (salaries['employment_type'] == 'FT') & (salaries['employee_residence'] == 'US')\n",
    "]\n",
    "\n",
    "# todo convert some features to numeric values e.g. experience level (convert to scale of 1-4), etc\n",
    "exp_levels = data['experience_level'].unique()\n",
    "# remove 'EX' level since we don't know what this is\n",
    "data = data[data['experience_level'] != 'EX']\n",
    "# convert other exp levels to ordinal numbers\n",
    "exp_mapping = {'EN': 1, 'MI': 2, 'SE': 3}\n",
    "data['experience_level'] = data['experience_level'].apply(lambda x: exp_mapping[x])\n",
    "# convert company size to ordinal numbers\n",
    "company_size_mapping = {'S': 1, 'M': 2, 'L': 3}\n",
    "data['company_size'] = data['company_size'].apply(lambda x: company_size_mapping[x])\n",
    "\n",
    "\n",
    "# drop irrelevant features\n",
    "data = data.drop(columns=[\n",
    "    'employment_type', \n",
    "    'job_title',\n",
    "    'salary',\n",
    "    'salary_currency', \n",
    "    'employee_residence', \n",
    "    'company_location',\n",
    "])\n",
    "\n",
    "# set dependent variable as first col for correlation matrix to show good results\n",
    "data = data[['salary_in_usd', 'work_year', 'remote_ratio', 'experience_level', 'company_size']]\n",
    "\n",
    "corr = data.corr()\n",
    "\n",
    "X_train, X_test = sklearn.model_selection.train_test_split(data, test_size=0.2)\n",
    "model = smf.ols(formula='salary_in_usd ~ experience_level', data=X_train).fit()\n",
    "adj_R2 = model.rsquared\n",
    "\n",
    "print(adj_R2)"
   ],
   "metadata": {
    "collapsed": false,
    "ExecuteTime": {
     "end_time": "2024-05-20T23:05:45.992846Z",
     "start_time": "2024-05-20T23:05:31.444404Z"
    }
   },
   "id": "6f06ad54b0fc51b"
  },
  {
   "cell_type": "code",
   "execution_count": null,
   "outputs": [],
   "source": [],
   "metadata": {
    "collapsed": false
   },
   "id": "474649911a373656"
  }
 ],
 "metadata": {
  "kernelspec": {
   "display_name": "Python 3",
   "language": "python",
   "name": "python3"
  },
  "language_info": {
   "codemirror_mode": {
    "name": "ipython",
    "version": 2
   },
   "file_extension": ".py",
   "mimetype": "text/x-python",
   "name": "python",
   "nbconvert_exporter": "python",
   "pygments_lexer": "ipython2",
   "version": "2.7.6"
  }
 },
 "nbformat": 4,
 "nbformat_minor": 5
}

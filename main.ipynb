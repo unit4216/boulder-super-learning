{
 "cells": [
  {
   "cell_type": "markdown",
   "source": [
    "Supervised Learning Final: Data Engineer Salaries Model\n",
    "\n",
    "Dataset URL (Kaggle): https://www.kaggle.com/datasets/chopper53/data-engineer-salary-in-2024?resource=download"
   ],
   "metadata": {
    "collapsed": false
   },
   "id": "c2b3bae495caa5b6"
  },
  {
   "cell_type": "code",
   "execution_count": 28,
   "outputs": [
    {
     "name": "stdout",
     "output_type": "stream",
     "text": [
      "9.995917135152688e-05\n"
     ]
    }
   ],
   "source": [
    "import pandas as pd\n",
    "import seaborn as sns\n",
    "import sklearn.model_selection\n",
    "import statsmodels.formula.api as smf\n",
    "\n",
    "salaries = pd.read_csv('salaries.csv')\n",
    "\n",
    "# filter for relevant data\n",
    "data = salaries[\n",
    "    (salaries['job_title'] == 'Data Engineer') \n",
    "    & (salaries['employment_type'] == 'FT') & (salaries['salary_currency'] == 'USD')\n",
    "]\n",
    "\n",
    "# todo convert some features to numeric values e.g. experience level (convert to scale of 1-4), etc\n",
    "\n",
    "# drop irrelevant features\n",
    "data = data.drop(columns=[\n",
    "    'experience_level', \n",
    "    'employment_type', \n",
    "    'job_title',\n",
    "    'salary',\n",
    "    'salary_currency', \n",
    "    'employee_residence', \n",
    "    'company_location',\n",
    "    'company_size'\n",
    "])\n",
    "\n",
    "# set dependent variable as first col for correlation matrix to show good results\n",
    "data = data[['salary_in_usd', 'work_year', 'remote_ratio']]\n",
    "\n",
    "corr = data.corr()\n",
    "\n",
    "# print(sns.heatmap(data.corr(), annot=True, fmt='.1f'))\n",
    "\n",
    "# todo possible features that impact salary - work year, experience level, job title, remote ratio, company size\n",
    "\n",
    "# todo convert all features to parseable data\n",
    "\n",
    "X_train, X_test = sklearn.model_selection.train_test_split(data, test_size=0.2)\n",
    "model = smf.ols(formula='salary_in_usd ~ work_year', data=X_train).fit()\n",
    "adj_R2 = model.rsquared\n",
    "\n",
    "print(adj_R2)"
   ],
   "metadata": {
    "collapsed": false,
    "ExecuteTime": {
     "end_time": "2024-05-20T22:49:15.551196Z",
     "start_time": "2024-05-20T22:49:15.512287Z"
    }
   },
   "id": "6f06ad54b0fc51b"
  },
  {
   "cell_type": "code",
   "execution_count": null,
   "outputs": [],
   "source": [],
   "metadata": {
    "collapsed": false
   },
   "id": "474649911a373656"
  }
 ],
 "metadata": {
  "kernelspec": {
   "display_name": "Python 3",
   "language": "python",
   "name": "python3"
  },
  "language_info": {
   "codemirror_mode": {
    "name": "ipython",
    "version": 2
   },
   "file_extension": ".py",
   "mimetype": "text/x-python",
   "name": "python",
   "nbconvert_exporter": "python",
   "pygments_lexer": "ipython2",
   "version": "2.7.6"
  }
 },
 "nbformat": 4,
 "nbformat_minor": 5
}
